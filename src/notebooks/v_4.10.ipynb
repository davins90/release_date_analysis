{
 "cells": [
  {
   "cell_type": "markdown",
   "id": "a0dc14c3-b670-403c-bb20-e36af365f05d",
   "metadata": {},
   "source": [
    "all weeks cleaned function"
   ]
  },
  {
   "cell_type": "code",
   "execution_count": 2,
   "id": "9c8aa196-4df3-4a63-ab77-e97c1148ba46",
   "metadata": {},
   "outputs": [],
   "source": [
    "import pandas as pd\n",
    "import numpy as np\n",
    "import seaborn as sns\n",
    "import matplotlib.pyplot as plt\n",
    "import plotly.express as px\n",
    "import plotly.io as pio\n",
    "import plotly.graph_objects as go\n",
    "import pytrends\n",
    "import os\n",
    "import time\n",
    "import requests\n",
    "\n",
    "from pytrends.request import TrendReq\n",
    "from datetime import timedelta, date\n",
    "from datetime import datetime as dt\n",
    "from sklearn.decomposition import PCA\n",
    "from sklearn.preprocessing import StandardScaler\n",
    "from sklearn.preprocessing import MinMaxScaler\n",
    "from scipy.stats import zscore\n",
    "\n",
    "pio.renderers.default = 'iframe'\n",
    "pd.set_option('display.max_rows',None)\n",
    "pd.set_option('display.max_columns',None)\n",
    "# pytrends = TrendReq()\n",
    "pytrends = TrendReq(timeout=(10,25), retries=2, backoff_factor=0.1) #, hl='en-US'\n",
    "scaler = MinMaxScaler()"
   ]
  },
  {
   "cell_type": "markdown",
   "id": "200cfe8f-f30b-481d-9aa1-e54dcd3b186b",
   "metadata": {},
   "source": [
    "# Data Input"
   ]
  },
  {
   "cell_type": "code",
   "execution_count": 3,
   "id": "2296e1fa-629c-4525-b198-611c0ec6cad8",
   "metadata": {},
   "outputs": [],
   "source": [
    "cat = ['123movies','torrent','stream','online free','gangs of london season 2']"
   ]
  },
  {
   "cell_type": "code",
   "execution_count": 4,
   "id": "0893ed16-e8c0-4816-94b7-949f3913b7a9",
   "metadata": {},
   "outputs": [],
   "source": [
    "release_date = \"20-10-2022\""
   ]
  },
  {
   "cell_type": "markdown",
   "id": "b1079ccc-a7f4-4c29-907f-4bfec576ea44",
   "metadata": {},
   "source": [
    "# 1.0 Data retrieval"
   ]
  },
  {
   "cell_type": "code",
   "execution_count": 5,
   "id": "ba9283aa-40de-456a-83ce-304938805b6c",
   "metadata": {},
   "outputs": [],
   "source": [
    "def download_data(cat,version,start_date,end_date):\n",
    "    \"\"\"\n",
    "    \n",
    "    \"\"\"\n",
    "    inter = []\n",
    "    try:\n",
    "        if version == \"Hourly\":\n",
    "            historicaldf = pytrends.get_historical_interest(cat, year_start=int(start_date.split(\"-\")[0]), month_start=int(start_date.split(\"-\")[1]), \n",
    "                                                            day_start=int(start_date.split(\"-\")[2]), hour_start=0, \n",
    "                                                            year_end=int(end_date.split(\"-\")[0]), month_end=int(end_date.split(\"-\")[1]), day_end=int(end_date.split(\"-\")[2]), \n",
    "                                                            hour_end=23, cat=0, geo='GB', gprop='', sleep=0)\n",
    "            inter.append(historicaldf.drop(columns='isPartial'))\n",
    "        else:\n",
    "            pytrends.build_payload(kw_list=cat,cat=0,geo='GB',timeframe=\"{} {}\".format(start_date,end_date))\n",
    "            inter.append(pytrends.interest_over_time().drop(columns='isPartial'))\n",
    "        time.sleep(15)\n",
    "    except requests.exceptions.Timeout:\n",
    "        print(\"Timeout search: extend time.sleep\")\n",
    "    ## finalize df\n",
    "    df = pd.concat(inter,axis=1)\n",
    "    return df"
   ]
  },
  {
   "cell_type": "code",
   "execution_count": 6,
   "id": "a0851aa3-0071-42b2-919a-1ad6170adf5e",
   "metadata": {},
   "outputs": [],
   "source": [
    "def range_date(release_date):\n",
    "    \"\"\"\n",
    "    \n",
    "    \"\"\"\n",
    "    x = dt(int(release_date.split(\"-\")[2]), int(release_date.split(\"-\")[1]), int(release_date.split(\"-\")[0]))\n",
    "    start_date = x + timedelta(days=-2)\n",
    "#     end_date = x + timedelta(days=+4)\n",
    "    end_date = dt.today()\n",
    "    start_date = start_date.strftime(\"%Y-%-m-%d\")\n",
    "    end_date = end_date.strftime(\"%Y-%-m-%d\")\n",
    "    return start_date, end_date"
   ]
  },
  {
   "cell_type": "code",
   "execution_count": 7,
   "id": "04a3aeb1-ae26-431e-b412-bce404c5515a",
   "metadata": {},
   "outputs": [],
   "source": [
    "start_date, end_date = range_date(release_date)"
   ]
  },
  {
   "cell_type": "code",
   "execution_count": 8,
   "id": "233793e5-c34a-4b78-80a1-012e2c35a99f",
   "metadata": {},
   "outputs": [],
   "source": [
    "df_raw = download_data(cat,'Hourly',start_date,end_date) "
   ]
  },
  {
   "cell_type": "markdown",
   "id": "66e07dc6-75a8-4e38-a755-fa34d8895c34",
   "metadata": {},
   "source": [
    "# 2.0 Data preparation"
   ]
  },
  {
   "cell_type": "code",
   "execution_count": 9,
   "id": "a1e5b8e1-298b-4efc-a20b-7431f3a89fe4",
   "metadata": {},
   "outputs": [],
   "source": [
    "df = df_raw.copy()"
   ]
  },
  {
   "cell_type": "markdown",
   "id": "c120ac2d-b072-4532-a5b3-0de9cf019182",
   "metadata": {},
   "source": [
    "# 3.0 Features Enginerring"
   ]
  },
  {
   "cell_type": "markdown",
   "id": "e056177b-3eef-493f-bcb0-1ac88d066a2a",
   "metadata": {},
   "source": [
    "## 3.1 Piracy Demand Index"
   ]
  },
  {
   "cell_type": "markdown",
   "id": "8f06353d-d340-4803-8d8c-e277d871ff0b",
   "metadata": {},
   "source": [
    "Indication of the weights retrived from insights from [MUSO](https://www.muso.com/magazine/piracy-data-overview-january-2022-to-august-2022).\n",
    "Change weights to reflect the fact that \"stream\" on weekends are higher due to football. "
   ]
  },
  {
   "cell_type": "code",
   "execution_count": 11,
   "id": "5d8ffdeb-4ae0-49e0-9035-55de28a590e2",
   "metadata": {},
   "outputs": [],
   "source": [
    "weights = [0.15,0.25,0.25,0.35]"
   ]
  },
  {
   "cell_type": "code",
   "execution_count": 12,
   "id": "13e62dea-6e17-44cc-aa9d-5b226c7bce64",
   "metadata": {},
   "outputs": [],
   "source": [
    "df['Piracy Demand Index'] = df.drop(columns='gangs of london season 2').apply(lambda x: x.dot(weights),axis=1)"
   ]
  },
  {
   "cell_type": "markdown",
   "id": "99661c3c-5f96-45ee-96da-0dd4222e5c55",
   "metadata": {},
   "source": [
    "## 3.2 Z-Score"
   ]
  },
  {
   "cell_type": "code",
   "execution_count": 13,
   "id": "c8f52e10-0640-4776-8a4a-29d82e7c1484",
   "metadata": {},
   "outputs": [],
   "source": [
    "df['Piracy Score'] = zscore(df['Piracy Demand Index'])\n",
    "df['Gangs Score'] = zscore(df['gangs of london season 2'])\n",
    "df['Final Score'] = df['Piracy Score']*0.3 + df['Gangs Score']*0.7\n",
    "df['Final Score Scaled'] = scaler.fit_transform(df['Final Score'].values.reshape(-1,1))"
   ]
  },
  {
   "cell_type": "markdown",
   "id": "3fb71e60-f00f-42a3-9237-c448d56adec9",
   "metadata": {},
   "source": [
    "## 3.3 Extract date time info"
   ]
  },
  {
   "cell_type": "code",
   "execution_count": 14,
   "id": "64863a01-e16b-446a-966a-62ad7a400db5",
   "metadata": {},
   "outputs": [],
   "source": [
    "df['Day'] = df.index.date\n",
    "df['Hour'] = df.index.hour"
   ]
  },
  {
   "cell_type": "code",
   "execution_count": 15,
   "id": "e01f5e11-ce88-4503-87d3-e6054be71be5",
   "metadata": {},
   "outputs": [],
   "source": [
    "df['Hour Range'] = 'Morning'\n",
    "df['Hour Range'] = df['Hour Range'].mask((df['Hour']>=0) & (df['Hour']<=5),'Night')\n",
    "df['Hour Range'] = df['Hour Range'].mask((df['Hour']>12) & (df['Hour']<=17),'Afternoon')\n",
    "df['Hour Range'] = df['Hour Range'].mask((df['Hour']>17) & (df['Hour']<=21),'Evening')"
   ]
  },
  {
   "cell_type": "code",
   "execution_count": 16,
   "id": "2fde3d67-7651-4a45-8ff6-d882c55e5888",
   "metadata": {},
   "outputs": [],
   "source": [
    "df = df.reset_index()"
   ]
  },
  {
   "cell_type": "markdown",
   "id": "031975b0-ef00-44dd-a11c-71f325ea8bd5",
   "metadata": {},
   "source": [
    "# 4.0 Modeling\n",
    "## 4.1 Bar Chart"
   ]
  },
  {
   "cell_type": "code",
   "execution_count": 17,
   "id": "5a364008-71d6-4ac2-9d87-d1291c0d536c",
   "metadata": {},
   "outputs": [
    {
     "name": "stderr",
     "output_type": "stream",
     "text": [
      "<ipython-input-17-b4284f3ad677>:1: FutureWarning:\n",
      "\n",
      "Indexing with multiple keys (implicitly converted to a tuple of keys) will be deprecated, use a list instead.\n",
      "\n"
     ]
    }
   ],
   "source": [
    "gr = df.groupby('Day')['Piracy Score','Gangs Score','Final Score'].mean()"
   ]
  },
  {
   "cell_type": "code",
   "execution_count": 18,
   "id": "82141907-a238-4285-af83-397a96c80a65",
   "metadata": {},
   "outputs": [
    {
     "data": {
      "text/html": [
       "<iframe\n",
       "    scrolling=\"no\"\n",
       "    width=\"100%\"\n",
       "    height=\"545px\"\n",
       "    src=\"iframe_figures/figure_18.html\"\n",
       "    frameborder=\"0\"\n",
       "    allowfullscreen\n",
       "></iframe>\n"
      ]
     },
     "metadata": {},
     "output_type": "display_data"
    }
   ],
   "source": [
    "fig = px.bar(gr,x=gr.index,y=gr.columns,title=\"When did consumer demand increase (or decrease) during the last week?<br><sup>Final Score: weighted average of Piracy and Gangs Score - Score related to the week under examination - Weekly mean centered at Zero</sup>\")\n",
    "fig.update_layout(title_x=0.5)\n",
    "fig.update_layout(\n",
    "    xaxis_title=\"Date\",\n",
    "    yaxis_title=\"Score\")\n",
    "fig.update_layout(barmode='group')\n",
    "fig.show()"
   ]
  },
  {
   "cell_type": "markdown",
   "id": "f4eb25d3-75ca-4189-94b2-7371d8c5f5c7",
   "metadata": {},
   "source": [
    "## 4.2 Multicriteria \n",
    "### 4.2.1 Multicriteria Day by Day"
   ]
  },
  {
   "cell_type": "code",
   "execution_count": 19,
   "id": "62929d28-a702-48b9-b43d-1017aa10e6b6",
   "metadata": {},
   "outputs": [],
   "source": [
    "df['date_str'] = df['Day'].apply(lambda x: str(x))"
   ]
  },
  {
   "cell_type": "code",
   "execution_count": 20,
   "id": "a79e262b-a386-4154-b7ff-d955385254be",
   "metadata": {},
   "outputs": [
    {
     "data": {
      "text/html": [
       "<iframe\n",
       "    scrolling=\"no\"\n",
       "    width=\"100%\"\n",
       "    height=\"545px\"\n",
       "    src=\"iframe_figures/figure_20.html\"\n",
       "    frameborder=\"0\"\n",
       "    allowfullscreen\n",
       "></iframe>\n"
      ]
     },
     "metadata": {},
     "output_type": "display_data"
    }
   ],
   "source": [
    "fig = px.scatter(df, x='Piracy Score', y='Gangs Score',color='Hour Range',custom_data=['date'],size='Final Score Scaled',animation_frame='date_str',\n",
    "                 range_x=[df['Piracy Score'].min()-0.5,df['Piracy Score'].max()+0.5],\n",
    "                 range_y=[df['Gangs Score'].min()-0.5,df['Gangs Score'].max()+0.5],\n",
    "                 title=\"How did consumer demand behave during the selected time periods?<br><sup>Day by day animation - Every circle represents one hour of data gruped into four day parts (hour range).</sup>\")\n",
    "fig.update_xaxes(showgrid=False)\n",
    "fig.update_yaxes(showgrid=False)\n",
    "# fig.update_layout(showlegend=False)\n",
    "fig.layout.updatemenus[0].buttons[0].args[1][\"frame\"][\"duration\"] = 1000\n",
    "fig.add_hrect(y0=0, y1=df['Gangs Score'].max()+0.5, line_width=0, fillcolor=\"red\", opacity=0.1)\n",
    "fig.add_vrect(x0=0, x1=df['Piracy Score'].max()+0.5, line_width=0, fillcolor=\"red\", opacity=0.1)\n",
    "fig.add_hrect(y0=0, y1=df['Gangs Score'].min()-0.5, line_width=0, fillcolor=\"green\", opacity=0.1)\n",
    "fig.add_vrect(x0=0, x1=df['Piracy Score'].min()-0.5, line_width=0, fillcolor=\"green\", opacity=0.1)\n",
    "fig.add_hline(y=0)\n",
    "fig.add_vline(x=0)\n",
    "fig.add_vrect(x0=0, x1=round(df['Piracy Score'].max()+0.5,5), annotation_text=\"Piracy increase, Gangs increase\", annotation_position=\"top right\", annotation=dict(font_size=12))\n",
    "fig.add_vrect(x0=0, x1=round(df['Piracy Score'].min()-0.5,5), annotation_text=\"Piracy decrease, Gangs increase\", annotation_position=\"top right\", annotation=dict(font_size=12))\n",
    "fig.add_vrect(x0=0, x1=round(df['Piracy Score'].max()+0.5,5), annotation_text=\"Piracy increase, Gangs decrease\", annotation_position=\"bottom right\", annotation=dict(font_size=12))\n",
    "fig.add_vrect(x0=0, x1=round(df['Piracy Score'].min()-0.5,5), annotation_text=\"Piracy decrease, Gangs decrease\", annotation_position=\"bottom right\", annotation=dict(font_size=12))\n",
    "fig.update_traces(marker=dict(line=dict(width=2,color='DarkSlateGrey')),selector=dict(mode='markers'))\n",
    "fig.update_layout(title_x=0.5)\n",
    "fig.show()"
   ]
  },
  {
   "cell_type": "markdown",
   "id": "cb6fbbf4-54a6-4166-94f9-7051e81449d1",
   "metadata": {},
   "source": [
    "### 4.2.2 Multicriteria All Days"
   ]
  },
  {
   "cell_type": "code",
   "execution_count": 22,
   "id": "85825597-2b37-446c-bdb3-3c308fdc3fd1",
   "metadata": {},
   "outputs": [
    {
     "data": {
      "text/html": [
       "<iframe\n",
       "    scrolling=\"no\"\n",
       "    width=\"100%\"\n",
       "    height=\"545px\"\n",
       "    src=\"iframe_figures/figure_22.html\"\n",
       "    frameborder=\"0\"\n",
       "    allowfullscreen\n",
       "></iframe>\n"
      ]
     },
     "metadata": {},
     "output_type": "display_data"
    }
   ],
   "source": [
    "fig = px.scatter(df, x='Piracy Score', y='Gangs Score',color='date_str',custom_data=['date'],size='Final Score Scaled',\n",
    "                 range_x=[df['Piracy Score'].min()-0.5,df['Piracy Score'].max()+0.5],\n",
    "                 range_y=[df['Gangs Score'].min()-0.5,df['Gangs Score'].max()+0.5],\n",
    "                 title=\"How did consumer demand behave during the selected time periods?<br><sup>Overall days - Every circle represents one hour of data - Legend interactive</sup>\")\n",
    "fig.update_xaxes(showgrid=False)\n",
    "fig.update_yaxes(showgrid=False)\n",
    "fig.add_hrect(y0=0, y1=df['Gangs Score'].max()+0.5, line_width=0, fillcolor=\"red\", opacity=0.1)\n",
    "fig.add_vrect(x0=0, x1=df['Piracy Score'].max()+0.5, line_width=0, fillcolor=\"red\", opacity=0.1)\n",
    "fig.add_hrect(y0=0, y1=df['Gangs Score'].min()-0.5, line_width=0, fillcolor=\"green\", opacity=0.1)\n",
    "fig.add_vrect(x0=0, x1=df['Piracy Score'].min()-0.5, line_width=0, fillcolor=\"green\", opacity=0.1)\n",
    "fig.add_hline(y=0)\n",
    "fig.add_vline(x=0)\n",
    "fig.add_vrect(x0=0, x1=round(df['Piracy Score'].max()+0.5,5), annotation_text=\"Piracy increase, Gangs increase\", annotation_position=\"top right\", annotation=dict(font_size=10))\n",
    "fig.add_vrect(x0=0, x1=round(df['Piracy Score'].min()-0.5,5), annotation_text=\"Piracy decrease, Gangs increase\", annotation_position=\"top right\", annotation=dict(font_size=10))\n",
    "fig.add_vrect(x0=0, x1=round(df['Piracy Score'].max()+0.5,5), annotation_text=\"Piracy increase, Gangs decrease\", annotation_position=\"bottom right\", annotation=dict(font_size=10))\n",
    "fig.add_vrect(x0=0, x1=round(df['Piracy Score'].min()-0.5,5), annotation_text=\"Piracy decrease, Gangs decrease\", annotation_position=\"bottom right\", annotation=dict(font_size=10))\n",
    "fig.update_traces(marker=dict(line=dict(width=2,color='DarkSlateGrey')),selector=dict(mode='markers'))\n",
    "fig.update_layout(title_x=0.5)\n",
    "fig.update_traces(hovertemplate=\"<br>\".join([\n",
    "        \"Pirate Score: %{x}\",\n",
    "        \"Gangs Score: %{y}\",\n",
    "        \"Date & Hour: %{customdata[0]}\"]))\n",
    "fig.show()"
   ]
  },
  {
   "cell_type": "markdown",
   "id": "5de19b30-a1a9-4de3-9460-8e9015028297",
   "metadata": {},
   "source": [
    "## 4.3 PCA"
   ]
  },
  {
   "cell_type": "markdown",
   "id": "5bd320a7-ffc8-473c-a112-cd9e2538f20b",
   "metadata": {},
   "source": [
    "Note: change name detection for PCA\n",
    "\n",
    "It's been also tested SparsePCA for validation of the PCA and TruncatedSVD --> More or less all give the same results."
   ]
  },
  {
   "cell_type": "code",
   "execution_count": 23,
   "id": "ca76b163-4545-4daa-87ff-7fd0f0da1ca8",
   "metadata": {},
   "outputs": [],
   "source": [
    "def principal_component_analysis(df):\n",
    "    \"\"\"\n",
    "    \n",
    "    \"\"\"\n",
    "    x = df.iloc[:,1:6]\n",
    "    x2 = StandardScaler().fit_transform(x.values)\n",
    "    x3 = pd.DataFrame(x2, index=x.index, columns=x.columns)\n",
    "    pca = PCA(n_components=0.9,random_state=1)\n",
    "    pca.fit(x3)\n",
    "    var1 = pca.explained_variance_ratio_[0]\n",
    "    sv1 = pca.singular_values_[0]\n",
    "    comp = pd.DataFrame(pca.components_,columns=[x3.columns]).T\n",
    "    comp = comp.reset_index()\n",
    "    comp = comp.sort_values(by=0,ascending=False)\n",
    "    comp = comp.rename(columns={'level_0':'Keyword',0:'Score1'})\n",
    "    fig = px.bar(comp,x=comp['Keyword'],y=comp['Score1'],color=comp['Keyword'])\n",
    "    fig.update_layout(\n",
    "        title=\"Keywords Score Importance of the week\",\n",
    "        xaxis_title=\"Keywords searched\",\n",
    "        yaxis_title=\"Score\")\n",
    "    fig.update_layout(title_x=0.5)\n",
    "    fig.show()\n",
    "    return var1, sv1"
   ]
  },
  {
   "cell_type": "code",
   "execution_count": 24,
   "id": "70031ada-9c96-442d-b1a9-7dd64fe25a5b",
   "metadata": {},
   "outputs": [
    {
     "data": {
      "text/html": [
       "<iframe\n",
       "    scrolling=\"no\"\n",
       "    width=\"100%\"\n",
       "    height=\"545px\"\n",
       "    src=\"iframe_figures/figure_24.html\"\n",
       "    frameborder=\"0\"\n",
       "    allowfullscreen\n",
       "></iframe>\n"
      ]
     },
     "metadata": {},
     "output_type": "display_data"
    }
   ],
   "source": [
    "var1, sv1 = principal_component_analysis(df)"
   ]
  },
  {
   "cell_type": "markdown",
   "id": "74800788-f4c6-44e3-869b-0f663ccb9563",
   "metadata": {},
   "source": [
    "eigenvector?"
   ]
  },
  {
   "cell_type": "code",
   "execution_count": 27,
   "id": "adf12a41-0613-4da0-8432-79cd73cdb4ea",
   "metadata": {},
   "outputs": [],
   "source": [
    "# eig = pd.DataFrame(pca.transform(x3),index=df['date'])"
   ]
  },
  {
   "cell_type": "code",
   "execution_count": 28,
   "id": "62fb1e49-f50a-4a5a-908d-90666a55c93a",
   "metadata": {},
   "outputs": [],
   "source": [
    "# plt.figure(figsize=(10,10))\n",
    "# plt.plot(eig[0])"
   ]
  },
  {
   "cell_type": "markdown",
   "id": "90fe1b5c-8579-429b-9e0f-36ad48539ce2",
   "metadata": {},
   "source": [
    "## 4.4 CDS"
   ]
  },
  {
   "cell_type": "code",
   "execution_count": 29,
   "id": "71188cef-3d0c-4b91-850d-28ef8489e5e8",
   "metadata": {},
   "outputs": [],
   "source": [
    "def pds_static(df):\n",
    "    \"\"\"\n",
    "    \n",
    "    \"\"\"\n",
    "    for i in df:\n",
    "        if (i == 'Piracy Demand Index') | (i == 'gangs of london season 2'):\n",
    "            print(i)\n",
    "            mean = df[i].mean() # the higher the mean, the higher the activity\n",
    "            std = df[i].std() # the higher the std, the higher the movements\n",
    "            var = df[i].quantile(0.99) # check for extreme value\n",
    "            pds = 0.4*mean + 0.2*std + 0.4*var\n",
    "            ub = 40\n",
    "            lb = 0\n",
    "            pds2 = 100*((1-0)*(pds-lb)/(ub-lb)+lb)\n",
    "            print(pds2)"
   ]
  },
  {
   "cell_type": "code",
   "execution_count": 30,
   "id": "67fffa53-01f7-46c4-b824-28f5830b93f2",
   "metadata": {},
   "outputs": [
    {
     "name": "stdout",
     "output_type": "stream",
     "text": [
      "gangs of london season 2\n",
      "40.263460402972896\n",
      "Piracy Demand Index\n",
      "68.04785343562413\n"
     ]
    }
   ],
   "source": [
    "pds_static(df)"
   ]
  },
  {
   "cell_type": "code",
   "execution_count": null,
   "id": "4315580e-800f-4e8e-9f63-eb8112b8d7cb",
   "metadata": {},
   "outputs": [],
   "source": []
  }
 ],
 "metadata": {
  "kernelspec": {
   "display_name": "Python 3",
   "language": "python",
   "name": "python3"
  },
  "language_info": {
   "codemirror_mode": {
    "name": "ipython",
    "version": 3
   },
   "file_extension": ".py",
   "mimetype": "text/x-python",
   "name": "python",
   "nbconvert_exporter": "python",
   "pygments_lexer": "ipython3",
   "version": "3.9.2"
  }
 },
 "nbformat": 4,
 "nbformat_minor": 5
}
